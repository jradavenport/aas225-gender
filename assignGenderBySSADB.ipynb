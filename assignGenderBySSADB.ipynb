{
 "metadata": {
  "name": "",
  "signature": "sha256:85d202b103b589971d02e0a1d61ae134e1ec29664d1d616b3900152bab472d05"
 },
 "nbformat": 3,
 "nbformat_minor": 0,
 "worksheets": [
  {
   "cells": [
    {
     "cell_type": "code",
     "collapsed": false,
     "input": [
      "import pandas as pd\n",
      "import sys\n",
      "namesDB = pd.read_csv('registrants.txt')\n",
      "countTotal = namesDB.Name.count()"
     ],
     "language": "python",
     "metadata": {},
     "outputs": [],
     "prompt_number": 12
    },
    {
     "cell_type": "code",
     "collapsed": false,
     "input": [
      "males = pd.read_csv('gender_names/male_uniq.csv',skiprows=5,names=['Name','count'])\n",
      "females = pd.read_csv('gender_names/female_uniq.csv',skiprows=5,names=['Name','count'])\n",
      "males['gender'] = 'male'\n",
      "females['gender'] = 'female'\n"
     ],
     "language": "python",
     "metadata": {},
     "outputs": [],
     "prompt_number": 13
    },
    {
     "cell_type": "code",
     "collapsed": false,
     "input": [
      "females.count() + males.count()"
     ],
     "language": "python",
     "metadata": {},
     "outputs": [
      {
       "metadata": {},
       "output_type": "pyout",
       "prompt_number": 14,
       "text": [
        "Name      91680\n",
        "count     91680\n",
        "gender    91680\n",
        "dtype: int64"
       ]
      }
     ],
     "prompt_number": 14
    },
    {
     "cell_type": "code",
     "collapsed": false,
     "input": [
      "genderDB = pd.concat([males,females],ignore_index=True)\n",
      "genderDB.count()"
     ],
     "language": "python",
     "metadata": {},
     "outputs": [
      {
       "metadata": {},
       "output_type": "pyout",
       "prompt_number": 15,
       "text": [
        "Name      91680\n",
        "count     91680\n",
        "gender    91680\n",
        "dtype: int64"
       ]
      }
     ],
     "prompt_number": 15
    },
    {
     "cell_type": "code",
     "collapsed": false,
     "input": [
      "firstNames = namesDB.Name.str.lower().str.split().str.get(0)\n",
      "namesDB['firstname'] = firstNames\n",
      "firstNames[0:5]"
     ],
     "language": "python",
     "metadata": {},
     "outputs": [
      {
       "metadata": {},
       "output_type": "pyout",
       "prompt_number": 17,
       "text": [
        "0         david\n",
        "1    antoinette\n",
        "2         brian\n",
        "3           bob\n",
        "4         peter\n",
        "Name: Name, dtype: object"
       ]
      }
     ],
     "prompt_number": 17
    },
    {
     "cell_type": "code",
     "collapsed": false,
     "input": [
      "genderFirstNames = genderDB.Name.str.lower().str.split().str.get(0)\n",
      "genderDB['firstname'] = genderFirstNames"
     ],
     "language": "python",
     "metadata": {},
     "outputs": [],
     "prompt_number": 18
    },
    {
     "cell_type": "code",
     "collapsed": false,
     "input": [
      "genderDB[['firstname','gender']].sort('firstname')[0:5]"
     ],
     "language": "python",
     "metadata": {},
     "outputs": [
      {
       "html": [
        "<div style=\"max-height:1000px;max-width:1500px;overflow:auto;\">\n",
        "<table border=\"1\" class=\"dataframe\">\n",
        "  <thead>\n",
        "    <tr style=\"text-align: right;\">\n",
        "      <th></th>\n",
        "      <th>firstname</th>\n",
        "      <th>gender</th>\n",
        "    </tr>\n",
        "  </thead>\n",
        "  <tbody>\n",
        "    <tr>\n",
        "      <th>0    </th>\n",
        "      <td>     aaban</td>\n",
        "      <td>   male</td>\n",
        "    </tr>\n",
        "    <tr>\n",
        "      <th>34319</th>\n",
        "      <td>     aabha</td>\n",
        "      <td> female</td>\n",
        "    </tr>\n",
        "    <tr>\n",
        "      <th>1    </th>\n",
        "      <td>     aabid</td>\n",
        "      <td>   male</td>\n",
        "    </tr>\n",
        "    <tr>\n",
        "      <th>34320</th>\n",
        "      <td> aabriella</td>\n",
        "      <td> female</td>\n",
        "    </tr>\n",
        "    <tr>\n",
        "      <th>2    </th>\n",
        "      <td>     aadam</td>\n",
        "      <td>   male</td>\n",
        "    </tr>\n",
        "  </tbody>\n",
        "</table>\n",
        "</div>"
       ],
       "metadata": {},
       "output_type": "pyout",
       "prompt_number": 19,
       "text": [
        "       firstname  gender\n",
        "0          aaban    male\n",
        "34319      aabha  female\n",
        "1          aabid    male\n",
        "34320  aabriella  female\n",
        "2          aadam    male"
       ]
      }
     ],
     "prompt_number": 19
    },
    {
     "cell_type": "code",
     "collapsed": false,
     "input": [
      "genderDB[ genderDB['firstname'] == 'aaden' ] # But, genderDB was just unique male and female names!?"
     ],
     "language": "python",
     "metadata": {},
     "outputs": [
      {
       "html": [
        "<div style=\"max-height:1000px;max-width:1500px;overflow:auto;\">\n",
        "<table border=\"1\" class=\"dataframe\">\n",
        "  <thead>\n",
        "    <tr style=\"text-align: right;\">\n",
        "      <th></th>\n",
        "      <th>Name</th>\n",
        "      <th>count</th>\n",
        "      <th>gender</th>\n",
        "      <th>firstname</th>\n",
        "    </tr>\n",
        "  </thead>\n",
        "  <tbody>\n",
        "    <tr>\n",
        "      <th>5    </th>\n",
        "      <td> Aaden</td>\n",
        "      <td> 3474</td>\n",
        "      <td>   male</td>\n",
        "      <td> aaden</td>\n",
        "    </tr>\n",
        "    <tr>\n",
        "      <th>34321</th>\n",
        "      <td> Aaden</td>\n",
        "      <td>    5</td>\n",
        "      <td> female</td>\n",
        "      <td> aaden</td>\n",
        "    </tr>\n",
        "  </tbody>\n",
        "</table>\n",
        "</div>"
       ],
       "metadata": {},
       "output_type": "pyout",
       "prompt_number": 20,
       "text": [
        "        Name  count  gender firstname\n",
        "5      Aaden   3474    male     aaden\n",
        "34321  Aaden      5  female     aaden"
       ]
      }
     ],
     "prompt_number": 20
    },
    {
     "cell_type": "code",
     "collapsed": false,
     "input": [
      "genderDB[ genderDB['firstname'] == 'zzyzx' ]"
     ],
     "language": "python",
     "metadata": {},
     "outputs": [
      {
       "html": [
        "<div style=\"max-height:1000px;max-width:1500px;overflow:auto;\">\n",
        "<table border=\"1\" class=\"dataframe\">\n",
        "  <thead>\n",
        "    <tr style=\"text-align: right;\">\n",
        "      <th></th>\n",
        "      <th>Name</th>\n",
        "      <th>count</th>\n",
        "      <th>gender</th>\n",
        "      <th>firstname</th>\n",
        "    </tr>\n",
        "  </thead>\n",
        "  <tbody>\n",
        "    <tr>\n",
        "      <th>34318</th>\n",
        "      <td> Zzyzx</td>\n",
        "      <td> 5</td>\n",
        "      <td> male</td>\n",
        "      <td> zzyzx</td>\n",
        "    </tr>\n",
        "  </tbody>\n",
        "</table>\n",
        "</div>"
       ],
       "metadata": {},
       "output_type": "pyout",
       "prompt_number": 21,
       "text": [
        "        Name  count gender firstname\n",
        "34318  Zzyzx      5   male     zzyzx"
       ]
      }
     ],
     "prompt_number": 21
    },
    {
     "cell_type": "code",
     "collapsed": false,
     "input": [
      "# select firstnames from records with gender=male (male_uniq.csv), intersection with attendee names\n",
      "len( set( genderDB['firstname'][genderDB['gender'] == 'male'] ) & set(namesDB['firstname']) )"
     ],
     "language": "python",
     "metadata": {},
     "outputs": [
      {
       "metadata": {},
       "output_type": "pyout",
       "prompt_number": 22,
       "text": [
        "900"
       ]
      }
     ],
     "prompt_number": 22
    },
    {
     "cell_type": "code",
     "collapsed": false,
     "input": [
      "# select firstnames from records with gender=female (female_uniq.csv), intersection with attendee names\n",
      "len( set( genderDB['firstname'][genderDB['gender'] == 'female'] ) & set(namesDB['firstname']) )"
     ],
     "language": "python",
     "metadata": {},
     "outputs": [
      {
       "metadata": {},
       "output_type": "pyout",
       "prompt_number": 23,
       "text": [
        "881"
       ]
      }
     ],
     "prompt_number": 23
    },
    {
     "cell_type": "code",
     "collapsed": false,
     "input": [
      "namesDB.firstname.count()"
     ],
     "language": "python",
     "metadata": {},
     "outputs": [
      {
       "metadata": {},
       "output_type": "pyout",
       "prompt_number": 24,
       "text": [
        "2785"
       ]
      }
     ],
     "prompt_number": 24
    },
    {
     "cell_type": "code",
     "collapsed": false,
     "input": [
      "maleFirstnames = genderDB[genderDB['gender'] == 'male' ][['firstname','gender']]\n",
      "femaleFirstnames = genderDB[genderDB['gender'] == 'female' ][['firstname','gender']]\n",
      "ambiguousFirstNamesDF = pd.merge(femaleFirstnames, maleFirstnames,how='inner',on=['firstname'] )\n",
      "ambiguousNamesCount = ambiguousFirstNamesDF['firstname'].count()\n",
      "ambiguousFirstNamesDF.head()\n",
      "print('Number of ambiguous first names in SSA database:')\n",
      "ambiguousNamesCount"
     ],
     "language": "python",
     "metadata": {},
     "outputs": [
      {
       "output_type": "stream",
       "stream": "stdout",
       "text": [
        "Number of ambiguous first names in SSA database:\n"
       ]
      },
      {
       "metadata": {},
       "output_type": "pyout",
       "prompt_number": 25,
       "text": [
        "8584"
       ]
      }
     ],
     "prompt_number": 25
    },
    {
     "cell_type": "code",
     "collapsed": false,
     "input": [
      "# intersection of male and female, ambiguous names in SSA DB\n",
      "ambiguousNamesSet = set( maleFirstnames.firstname ) & set( femaleFirstnames.firstname ) \n",
      "len(ambiguousNamesSet)"
     ],
     "language": "python",
     "metadata": {},
     "outputs": [
      {
       "metadata": {},
       "output_type": "pyout",
       "prompt_number": 26,
       "text": [
        "8584"
       ]
      }
     ],
     "prompt_number": 26
    },
    {
     "cell_type": "code",
     "collapsed": false,
     "input": [
      "# \"symmetric difference\" : unambiguous names in SSA DB\n",
      "unambiguousNamesSet = set(maleFirstnames.firstname) ^ set( femaleFirstnames.firstname)\n",
      "len(unambiguousNamesSet)"
     ],
     "language": "python",
     "metadata": {},
     "outputs": [
      {
       "metadata": {},
       "output_type": "pyout",
       "prompt_number": 27,
       "text": [
        "74512"
       ]
      }
     ],
     "prompt_number": 27
    },
    {
     "cell_type": "code",
     "collapsed": false,
     "input": [
      "# union of male and female names in SSA DB\n",
      "uniqueNamesSet = set(maleFirstnames.firstname) | set( femaleFirstnames.firstname) \n",
      "len(uniqueNamesSet)"
     ],
     "language": "python",
     "metadata": {},
     "outputs": [
      {
       "metadata": {},
       "output_type": "pyout",
       "prompt_number": 28,
       "text": [
        "83096"
       ]
      }
     ],
     "prompt_number": 28
    },
    {
     "cell_type": "code",
     "collapsed": false,
     "input": [
      "maleFirstnames.firstname.count() + femaleFirstnames.firstname.count() #total males and females in SSA DB, ambiguous names counted twice"
     ],
     "language": "python",
     "metadata": {},
     "outputs": [
      {
       "metadata": {},
       "output_type": "pyout",
       "prompt_number": 29,
       "text": [
        "91680"
       ]
      }
     ],
     "prompt_number": 29
    },
    {
     "cell_type": "code",
     "collapsed": false,
     "input": [
      "femaleFirstnames[ femaleFirstnames.firstname.duplicated() ].count() #there are no duplicates in the two source data sets"
     ],
     "language": "python",
     "metadata": {},
     "outputs": [
      {
       "metadata": {},
       "output_type": "pyout",
       "prompt_number": 30,
       "text": [
        "firstname    0\n",
        "gender       0\n",
        "dtype: int64"
       ]
      }
     ],
     "prompt_number": 30
    },
    {
     "cell_type": "code",
     "collapsed": false,
     "input": [
      "#namesDB.head()\n"
     ],
     "language": "python",
     "metadata": {},
     "outputs": [],
     "prompt_number": 85
    },
    {
     "cell_type": "code",
     "collapsed": false,
     "input": [
      "# pick out unambiguously named attendees from unambiguous firstnames in gender database\n",
      "unambiguousAttendees = unambiguousNamesSet.intersection(namesDB.firstname)\n",
      "list(unambiguousAttendees)[0:5]"
     ],
     "language": "python",
     "metadata": {},
     "outputs": [
      {
       "metadata": {},
       "output_type": "pyout",
       "prompt_number": 32,
       "text": [
        "['dinesh', 'buell', 'alistair', 'skip', 'rob']"
       ]
      }
     ],
     "prompt_number": 32
    },
    {
     "cell_type": "code",
     "collapsed": false,
     "input": [
      "maleFirstNames = genderDB[ genderDB['gender'] == 'male' ]['firstname']\n",
      "femaleFirstNames = genderDB[ genderDB['gender'] == 'female' ]['firstname']"
     ],
     "language": "python",
     "metadata": {},
     "outputs": [],
     "prompt_number": 33
    },
    {
     "cell_type": "code",
     "collapsed": false,
     "input": [
      "# separate unambiguous attendees into male and female subsets\n",
      "unambiguousMaleAttendees = unambiguousAttendees.intersection(maleFirstNames)\n",
      "unambiguousFemaleAttendees = unambiguousAttendees.intersection(femaleFirstNames)\n",
      "print( 'Number of unambiguously named male attendees: {}'.format( len(unambiguousMaleAttendees) ) )\n",
      "print( 'Number of unambiguously named female attendees: {}'.format( len(unambiguousFemaleAttendees) ) )"
     ],
     "language": "python",
     "metadata": {},
     "outputs": [
      {
       "output_type": "stream",
       "stream": "stdout",
       "text": [
        "Number of unambiguously named male attendees: 156\n",
        "Number of unambiguously named female attendees: 137\n"
       ]
      }
     ],
     "prompt_number": 34
    },
    {
     "cell_type": "code",
     "collapsed": false,
     "input": [
      "attendeeNamesAndGenders = pd.DataFrame( namesDB.copy() )\n",
      "attendeeNamesAndGenders['gender'] = 'unknown'\n",
      "mask = [ x in unambiguousMaleAttendees for x in attendeeNamesAndGenders['firstname']  ]\n",
      "attendeeNamesAndGenders.loc[mask,'gender'] = 'male'\n",
      "mask = [ x in unambiguousFemaleAttendees for x in attendeeNamesAndGenders['firstname']  ]\n",
      "attendeeNamesAndGenders.loc[mask,'gender'] = 'female'"
     ],
     "language": "python",
     "metadata": {},
     "outputs": [],
     "prompt_number": 35
    },
    {
     "cell_type": "code",
     "collapsed": false,
     "input": [
      "# count unambiguos attendees\n",
      "len(attendeeNamesAndGenders[ attendeeNamesAndGenders['gender'] != 'unknown' ])"
     ],
     "language": "python",
     "metadata": {},
     "outputs": [
      {
       "metadata": {},
       "output_type": "pyout",
       "prompt_number": 36,
       "text": [
        "327"
       ]
      }
     ],
     "prompt_number": 36
    },
    {
     "cell_type": "code",
     "collapsed": false,
     "input": [
      "# for everyone else, we need to guess based on percetages in the SSA database\n",
      "genderDB[['firstname','gender','count']].sort('firstname')[0:5]"
     ],
     "language": "python",
     "metadata": {},
     "outputs": [
      {
       "html": [
        "<div style=\"max-height:1000px;max-width:1500px;overflow:auto;\">\n",
        "<table border=\"1\" class=\"dataframe\">\n",
        "  <thead>\n",
        "    <tr style=\"text-align: right;\">\n",
        "      <th></th>\n",
        "      <th>firstname</th>\n",
        "      <th>gender</th>\n",
        "      <th>count</th>\n",
        "    </tr>\n",
        "  </thead>\n",
        "  <tbody>\n",
        "    <tr>\n",
        "      <th>0    </th>\n",
        "      <td>     aaban</td>\n",
        "      <td>   male</td>\n",
        "      <td>  42</td>\n",
        "    </tr>\n",
        "    <tr>\n",
        "      <th>34319</th>\n",
        "      <td>     aabha</td>\n",
        "      <td> female</td>\n",
        "      <td>  12</td>\n",
        "    </tr>\n",
        "    <tr>\n",
        "      <th>1    </th>\n",
        "      <td>     aabid</td>\n",
        "      <td>   male</td>\n",
        "      <td>   5</td>\n",
        "    </tr>\n",
        "    <tr>\n",
        "      <th>34320</th>\n",
        "      <td> aabriella</td>\n",
        "      <td> female</td>\n",
        "      <td>   5</td>\n",
        "    </tr>\n",
        "    <tr>\n",
        "      <th>2    </th>\n",
        "      <td>     aadam</td>\n",
        "      <td>   male</td>\n",
        "      <td> 161</td>\n",
        "    </tr>\n",
        "  </tbody>\n",
        "</table>\n",
        "</div>"
       ],
       "metadata": {},
       "output_type": "pyout",
       "prompt_number": 37,
       "text": [
        "       firstname  gender  count\n",
        "0          aaban    male     42\n",
        "34319      aabha  female     12\n",
        "1          aabid    male      5\n",
        "34320  aabriella  female      5\n",
        "2          aadam    male    161"
       ]
      }
     ],
     "prompt_number": 37
    },
    {
     "cell_type": "code",
     "collapsed": false,
     "input": [
      "# how many unique names are left?\n",
      "listOfFirstNames = attendeeNamesAndGenders[ attendeeNamesAndGenders['gender'] == 'unknown' ].firstname.tolist()\n",
      "print(' remainging unknowns',len( listOfFirstNames ))\n",
      "print(' remaining unique',len( set( listOfFirstNames ) ) )"
     ],
     "language": "python",
     "metadata": {},
     "outputs": [
      {
       "output_type": "stream",
       "stream": "stdout",
       "text": [
        "(' remainging unknowns', 2458)\n",
        "(' remaining unique', 932)\n"
       ]
      }
     ],
     "prompt_number": 38
    },
    {
     "cell_type": "code",
     "collapsed": false,
     "input": [
      "# what's wrong with abolaji ?\n",
      "attendeeNamesAndGenders[ attendeeNamesAndGenders['firstname'] == 'abolaji' ][['firstname','gender']]"
     ],
     "language": "python",
     "metadata": {},
     "outputs": [
      {
       "html": [
        "<div style=\"max-height:1000px;max-width:1500px;overflow:auto;\">\n",
        "<table border=\"1\" class=\"dataframe\">\n",
        "  <thead>\n",
        "    <tr style=\"text-align: right;\">\n",
        "      <th></th>\n",
        "      <th>firstname</th>\n",
        "      <th>gender</th>\n",
        "    </tr>\n",
        "  </thead>\n",
        "  <tbody>\n",
        "    <tr>\n",
        "      <th>29</th>\n",
        "      <td> abolaji</td>\n",
        "      <td> unknown</td>\n",
        "    </tr>\n",
        "  </tbody>\n",
        "</table>\n",
        "</div>"
       ],
       "metadata": {},
       "output_type": "pyout",
       "prompt_number": 86,
       "text": [
        "   firstname   gender\n",
        "29   abolaji  unknown"
       ]
      }
     ],
     "prompt_number": 86
    },
    {
     "cell_type": "code",
     "collapsed": false,
     "input": [
      "genderDB[ genderDB['firstname'] == 'abolaji' ] # aha, doesn't exist in SAA db at all"
     ],
     "language": "python",
     "metadata": {},
     "outputs": [
      {
       "html": [
        "<div style=\"max-height:1000px;max-width:1500px;overflow:auto;\">\n",
        "<table border=\"1\" class=\"dataframe\">\n",
        "  <thead>\n",
        "    <tr style=\"text-align: right;\">\n",
        "      <th></th>\n",
        "      <th>Name</th>\n",
        "      <th>count</th>\n",
        "      <th>gender</th>\n",
        "      <th>firstname</th>\n",
        "    </tr>\n",
        "  </thead>\n",
        "  <tbody>\n",
        "  </tbody>\n",
        "</table>\n",
        "</div>"
       ],
       "metadata": {},
       "output_type": "pyout",
       "prompt_number": 40,
       "text": [
        "Empty DataFrame\n",
        "Columns: [Name, count, gender, firstname]\n",
        "Index: []"
       ]
      }
     ],
     "prompt_number": 40
    },
    {
     "cell_type": "code",
     "collapsed": false,
     "input": [
      "# let's be fancy and try updating all the same firstnames at once, since that's how were are assigning gender anyway\n",
      "# but work on another copy\n",
      "df2 = attendeeNamesAndGenders.copy()\n",
      "for attendeeFN in listOfFirstNames :\n",
      "    #print( attendeeFN )\n",
      "    rowForMaleVersion = genderDB[ (genderDB['firstname'] == attendeeFN) & (genderDB['gender'] == 'male') ]\n",
      "    if len(rowForMaleVersion) == 0 :\n",
      "        print('WARNING: found firstname that doesn\\'t exist in SAA DB at all: {}'.format(attendeeFN) )\n",
      "    else :\n",
      "        countMale = rowForMaleVersion['count'].values[0]\n",
      "        #print countMale\n",
      "        rowForFemaleVersion = genderDB[ (genderDB['firstname'] == attendeeFN) & (genderDB['gender'] == 'female') ]\n",
      "        tmpSeries = rowForFemaleVersion\n",
      "        countFemale = rowForFemaleVersion.ix[:,'count'].values[0]\n",
      "        m2fRatio = countMale/countFemale\n",
      "        #print( attendeeFN , countMale, countFemale, m2fRatio)\n",
      "        if m2fRatio >= 0.5 :\n",
      "            #print('Most likely male, assigning gender for all attendees with first name \\'{}\\''.format(attendeeFN) )\n",
      "            df2.loc[attendeeNamesAndGenders['firstname'] == attendeeFN , 'gender' ] = 'male'\n",
      "        else :\n",
      "            #print('Most likely female, assigning gender for all attendees with first name \\'{}\\''.format(attendeeFN)  )\n",
      "            df2.loc[attendeeNamesAndGenders['firstname'] == attendeeFN , 'gender' ] = 'female'\n"
     ],
     "language": "python",
     "metadata": {},
     "outputs": [
      {
       "output_type": "stream",
       "stream": "stdout",
       "text": [
        "WARNING: found firstname that doesn't exist in SAA DB at all: abolaji\n",
        "WARNING: found firstname that doesn't exist in SAA DB at all: munazza"
       ]
      },
      {
       "output_type": "stream",
       "stream": "stdout",
       "text": [
        "\n",
        "WARNING: found firstname that doesn't exist in SAA DB at all: nikta"
       ]
      },
      {
       "output_type": "stream",
       "stream": "stdout",
       "text": [
        "\n",
        "WARNING: found firstname that doesn't exist in SAA DB at all: nyki"
       ]
      },
      {
       "output_type": "stream",
       "stream": "stdout",
       "text": [
        "\n",
        "WARNING: found firstname that doesn't exist in SAA DB at all: b-g"
       ]
      },
      {
       "output_type": "stream",
       "stream": "stdout",
       "text": [
        "\n",
        "WARNING: found firstname that doesn't exist in SAA DB at all: iair"
       ]
      },
      {
       "output_type": "stream",
       "stream": "stdout",
       "text": [
        "\n",
        "WARNING: found firstname that doesn't exist in SAA DB at all: aycin"
       ]
      },
      {
       "output_type": "stream",
       "stream": "stdout",
       "text": [
        "\n",
        "WARNING: found firstname that doesn't exist in SAA DB at all: mislav"
       ]
      },
      {
       "output_type": "stream",
       "stream": "stdout",
       "text": [
        "\n",
        "WARNING: found firstname that doesn't exist in SAA DB at all: crystal-lynn"
       ]
      },
      {
       "output_type": "stream",
       "stream": "stdout",
       "text": [
        "\n",
        "WARNING: found firstname that doesn't exist in SAA DB at all: stefi"
       ]
      },
      {
       "output_type": "stream",
       "stream": "stdout",
       "text": [
        "\n",
        "WARNING: found firstname that doesn't exist in SAA DB at all: sirio"
       ]
      },
      {
       "output_type": "stream",
       "stream": "stdout",
       "text": [
        "\n",
        "WARNING: found firstname that doesn't exist in SAA DB at all: sirio\n",
        "WARNING: found firstname that doesn't exist in SAA DB at all: bjoern"
       ]
      },
      {
       "output_type": "stream",
       "stream": "stdout",
       "text": [
        "\n",
        "WARNING: found firstname that doesn't exist in SAA DB at all: g."
       ]
      },
      {
       "output_type": "stream",
       "stream": "stdout",
       "text": [
        "\n",
        "WARNING: found firstname that doesn't exist in SAA DB at all: suketu"
       ]
      },
      {
       "output_type": "stream",
       "stream": "stdout",
       "text": [
        "\n",
        "WARNING: found firstname that doesn't exist in SAA DB at all: mederic"
       ]
      },
      {
       "output_type": "stream",
       "stream": "stdout",
       "text": [
        "\n",
        "WARNING: found firstname that doesn't exist in SAA DB at all: sanchayeeta"
       ]
      },
      {
       "output_type": "stream",
       "stream": "stdout",
       "text": [
        "\n",
        "WARNING: found firstname that doesn't exist in SAA DB at all: runlin"
       ]
      },
      {
       "output_type": "stream",
       "stream": "stdout",
       "text": [
        "\n",
        "WARNING: found firstname that doesn't exist in SAA DB at all: yssavo"
       ]
      },
      {
       "output_type": "stream",
       "stream": "stdout",
       "text": [
        "\n",
        "WARNING: found firstname that doesn't exist in SAA DB at all: heon-young"
       ]
      },
      {
       "output_type": "stream",
       "stream": "stdout",
       "text": [
        "\n",
        "WARNING: found firstname that doesn't exist in SAA DB at all: che-yu"
       ]
      },
      {
       "output_type": "stream",
       "stream": "stdout",
       "text": [
        "\n",
        "WARNING: found firstname that doesn't exist in SAA DB at all: chien-ting\n",
        "WARNING: found firstname that doesn't exist in SAA DB at all: hsin-yu"
       ]
      },
      {
       "output_type": "stream",
       "stream": "stdout",
       "text": [
        "\n",
        "WARNING: found firstname that doesn't exist in SAA DB at all: kwang-ping"
       ]
      },
      {
       "output_type": "stream",
       "stream": "stdout",
       "text": [
        "\n",
        "WARNING: found firstname that doesn't exist in SAA DB at all: chi-ting"
       ]
      },
      {
       "output_type": "stream",
       "stream": "stdout",
       "text": [
        "\n",
        "WARNING: found firstname that doesn't exist in SAA DB at all: yi-kuan"
       ]
      },
      {
       "output_type": "stream",
       "stream": "stdout",
       "text": [
        "\n",
        "WARNING: found firstname that doesn't exist in SAA DB at all: hyejeon"
       ]
      },
      {
       "output_type": "stream",
       "stream": "stdout",
       "text": [
        "\n",
        "WARNING: found firstname that doesn't exist in SAA DB at all: chul"
       ]
      },
      {
       "output_type": "stream",
       "stream": "stdout",
       "text": [
        "\n",
        "WARNING: found firstname that doesn't exist in SAA DB at all: m"
       ]
      },
      {
       "output_type": "stream",
       "stream": "stdout",
       "text": [
        "\n",
        "WARNING: found firstname that doesn't exist in SAA DB at all: asantha"
       ]
      },
      {
       "output_type": "stream",
       "stream": "stdout",
       "text": [
        "\n",
        "WARNING: found firstname that doesn't exist in SAA DB at all: stuartt"
       ]
      },
      {
       "output_type": "stream",
       "stream": "stdout",
       "text": [
        "\n",
        "WARNING: found firstname that doesn't exist in SAA DB at all: froney"
       ]
      },
      {
       "output_type": "stream",
       "stream": "stdout",
       "text": [
        "\n",
        "WARNING: found firstname that doesn't exist in SAA DB at all: chenzhou"
       ]
      },
      {
       "output_type": "stream",
       "stream": "stdout",
       "text": [
        "\n",
        "WARNING: found firstname that doesn't exist in SAA DB at all: zhibin"
       ]
      },
      {
       "output_type": "stream",
       "stream": "stdout",
       "text": [
        "\n",
        "WARNING: found firstname that doesn't exist in SAA DB at all: upasana"
       ]
      },
      {
       "output_type": "stream",
       "stream": "stdout",
       "text": [
        "\n",
        "WARNING: found firstname that doesn't exist in SAA DB at all: tansu"
       ]
      },
      {
       "output_type": "stream",
       "stream": "stdout",
       "text": [
        "\n",
        "WARNING: found firstname that doesn't exist in SAA DB at all: orsola"
       ]
      },
      {
       "output_type": "stream",
       "stream": "stdout",
       "text": [
        "\n",
        "WARNING: found firstname that doesn't exist in SAA DB at all: duilia\n",
        "WARNING: found firstname that doesn't exist in SAA DB at all: em"
       ]
      },
      {
       "output_type": "stream",
       "stream": "stdout",
       "text": [
        "\n",
        "WARNING: found firstname that doesn't exist in SAA DB at all: jean-michel"
       ]
      },
      {
       "output_type": "stream",
       "stream": "stdout",
       "text": [
        "\n",
        "WARNING: found firstname that doesn't exist in SAA DB at all: ralf-juergen"
       ]
      },
      {
       "output_type": "stream",
       "stream": "stdout",
       "text": [
        "\n",
        "WARNING: found firstname that doesn't exist in SAA DB at all: ahia"
       ]
      },
      {
       "output_type": "stream",
       "stream": "stdout",
       "text": [
        "\n",
        "WARNING: found firstname that doesn't exist in SAA DB at all: frossie"
       ]
      },
      {
       "output_type": "stream",
       "stream": "stdout",
       "text": [
        "\n",
        "WARNING: found firstname that doesn't exist in SAA DB at all: tarraneh"
       ]
      },
      {
       "output_type": "stream",
       "stream": "stdout",
       "text": [
        "\n",
        "WARNING: found firstname that doesn't exist in SAA DB at all: gemunu"
       ]
      },
      {
       "output_type": "stream",
       "stream": "stdout",
       "text": [
        "\n",
        "WARNING: found firstname that doesn't exist in SAA DB at all: m."
       ]
      },
      {
       "output_type": "stream",
       "stream": "stdout",
       "text": [
        "\n",
        "WARNING: found firstname that doesn't exist in SAA DB at all: saavik"
       ]
      },
      {
       "output_type": "stream",
       "stream": "stdout",
       "text": [
        "\n",
        "WARNING: found firstname that doesn't exist in SAA DB at all: octavi"
       ]
      },
      {
       "output_type": "stream",
       "stream": "stdout",
       "text": [
        "\n",
        "WARNING: found firstname that doesn't exist in SAA DB at all: b."
       ]
      },
      {
       "output_type": "stream",
       "stream": "stdout",
       "text": [
        "\n",
        "WARNING: found firstname that doesn't exist in SAA DB at all: beltz-mohrmann"
       ]
      },
      {
       "output_type": "stream",
       "stream": "stdout",
       "text": [
        "\n",
        "WARNING: found firstname that doesn't exist in SAA DB at all: hansung"
       ]
      },
      {
       "output_type": "stream",
       "stream": "stdout",
       "text": [
        "\n",
        "WARNING: found firstname that doesn't exist in SAA DB at all: vayujeet"
       ]
      },
      {
       "output_type": "stream",
       "stream": "stdout",
       "text": [
        "\n",
        "WARNING: found firstname that doesn't exist in SAA DB at all: giri"
       ]
      },
      {
       "output_type": "stream",
       "stream": "stdout",
       "text": [
        "\n",
        "WARNING: found firstname that doesn't exist in SAA DB at all: varoujan"
       ]
      },
      {
       "output_type": "stream",
       "stream": "stdout",
       "text": [
        "\n",
        "WARNING: found firstname that doesn't exist in SAA DB at all: yicheng"
       ]
      },
      {
       "output_type": "stream",
       "stream": "stdout",
       "text": [
        "\n",
        "WARNING: found firstname that doesn't exist in SAA DB at all: hashima"
       ]
      },
      {
       "output_type": "stream",
       "stream": "stdout",
       "text": [
        "\n",
        "WARNING: found firstname that doesn't exist in SAA DB at all: shoubaneh"
       ]
      },
      {
       "output_type": "stream",
       "stream": "stdout",
       "text": [
        "\n",
        "WARNING: found firstname that doesn't exist in SAA DB at all: xiachang"
       ]
      },
      {
       "output_type": "stream",
       "stream": "stdout",
       "text": [
        "\n",
        "WARNING: found firstname that doesn't exist in SAA DB at all: gigja"
       ]
      },
      {
       "output_type": "stream",
       "stream": "stdout",
       "text": [
        "\n",
        "WARNING: found firstname that doesn't exist in SAA DB at all: renyu"
       ]
      },
      {
       "output_type": "stream",
       "stream": "stdout",
       "text": [
        "\n",
        "WARNING: found firstname that doesn't exist in SAA DB at all: chao-ling"
       ]
      },
      {
       "output_type": "stream",
       "stream": "stdout",
       "text": [
        "\n",
        "WARNING: found firstname that doesn't exist in SAA DB at all: preshanth"
       ]
      },
      {
       "output_type": "stream",
       "stream": "stdout",
       "text": [
        "\n",
        "WARNING: found firstname that doesn't exist in SAA DB at all: woongbae"
       ]
      },
      {
       "output_type": "stream",
       "stream": "stdout",
       "text": [
        "\n",
        "WARNING: found firstname that doesn't exist in SAA DB at all: myoungwon"
       ]
      },
      {
       "output_type": "stream",
       "stream": "stdout",
       "text": [
        "\n",
        "WARNING: found firstname that doesn't exist in SAA DB at all: chelen"
       ]
      },
      {
       "output_type": "stream",
       "stream": "stdout",
       "text": [
        "\n",
        "WARNING: found firstname that doesn't exist in SAA DB at all: johnjohn"
       ]
      },
      {
       "output_type": "stream",
       "stream": "stdout",
       "text": [
        "\n",
        "WARNING: found firstname that doesn't exist in SAA DB at all: shimonee"
       ]
      },
      {
       "output_type": "stream",
       "stream": "stdout",
       "text": [
        "\n",
        "WARNING: found firstname that doesn't exist in SAA DB at all: kundan\n",
        "WARNING: found firstname that doesn't exist in SAA DB at all: sung-ju"
       ]
      },
      {
       "output_type": "stream",
       "stream": "stdout",
       "text": [
        "\n",
        "WARNING: found firstname that doesn't exist in SAA DB at all: jeyhan"
       ]
      },
      {
       "output_type": "stream",
       "stream": "stdout",
       "text": [
        "\n",
        "WARNING: found firstname that doesn't exist in SAA DB at all: n.\n",
        "WARNING: found firstname that doesn't exist in SAA DB at all: a."
       ]
      },
      {
       "output_type": "stream",
       "stream": "stdout",
       "text": [
        "\n",
        "WARNING: found firstname that doesn't exist in SAA DB at all: sugata\n",
        "WARNING: found firstname that doesn't exist in SAA DB at all: algirdas"
       ]
      },
      {
       "output_type": "stream",
       "stream": "stdout",
       "text": [
        "\n",
        "WARNING: found firstname that doesn't exist in SAA DB at all: duho"
       ]
      },
      {
       "output_type": "stream",
       "stream": "stdout",
       "text": [
        "\n",
        "WARNING: found firstname that doesn't exist in SAA DB at all: jeong-gyu\n",
        "WARNING: found firstname that doesn't exist in SAA DB at all: jeonghwan\n",
        "WARNING: found firstname that doesn't exist in SAA DB at all: woong-tae"
       ]
      },
      {
       "output_type": "stream",
       "stream": "stdout",
       "text": [
        "\n",
        "WARNING: found firstname that doesn't exist in SAA DB at all: yonghwi\n",
        "WARNING: found firstname that doesn't exist in SAA DB at all: shunji"
       ]
      },
      {
       "output_type": "stream",
       "stream": "stdout",
       "text": [
        "\n",
        "WARNING: found firstname that doesn't exist in SAA DB at all: youkyung"
       ]
      },
      {
       "output_type": "stream",
       "stream": "stdout",
       "text": [
        "\n",
        "WARNING: found firstname that doesn't exist in SAA DB at all: daegene"
       ]
      },
      {
       "output_type": "stream",
       "stream": "stdout",
       "text": [
        "\n",
        "WARNING: found firstname that doesn't exist in SAA DB at all: iraklis"
       ]
      },
      {
       "output_type": "stream",
       "stream": "stdout",
       "text": [
        "\n",
        "WARNING: found firstname that doesn't exist in SAA DB at all: saisneha\n",
        "WARNING: found firstname that doesn't exist in SAA DB at all: veselin"
       ]
      },
      {
       "output_type": "stream",
       "stream": "stdout",
       "text": [
        "\n",
        "WARNING: found firstname that doesn't exist in SAA DB at all: henric"
       ]
      },
      {
       "output_type": "stream",
       "stream": "stdout",
       "text": [
        "\n",
        "WARNING: found firstname that doesn't exist in SAA DB at all: t."
       ]
      },
      {
       "output_type": "stream",
       "stream": "stdout",
       "text": [
        "\n",
        "WARNING: found firstname that doesn't exist in SAA DB at all: kyujin"
       ]
      },
      {
       "output_type": "stream",
       "stream": "stdout",
       "text": [
        "\n",
        "WARNING: found firstname that doesn't exist in SAA DB at all: teiler\n",
        "WARNING: found firstname that doesn't exist in SAA DB at all: djazia"
       ]
      },
      {
       "output_type": "stream",
       "stream": "stdout",
       "text": [
        "\n",
        "WARNING: found firstname that doesn't exist in SAA DB at all: seppo\n",
        "WARNING: found firstname that doesn't exist in SAA DB at all: charles-philippe\n",
        "WARNING: found firstname that doesn't exist in SAA DB at all: tanmoy"
       ]
      },
      {
       "output_type": "stream",
       "stream": "stdout",
       "text": [
        "\n",
        "WARNING: found firstname that doesn't exist in SAA DB at all: bomee"
       ]
      },
      {
       "output_type": "stream",
       "stream": "stdout",
       "text": [
        "\n",
        "WARNING: found firstname that doesn't exist in SAA DB at all: daeyoung"
       ]
      },
      {
       "output_type": "stream",
       "stream": "stdout",
       "text": [
        "\n",
        "WARNING: found firstname that doesn't exist in SAA DB at all: hyun-chul\n",
        "WARNING: found firstname that doesn't exist in SAA DB at all: jaehyun\n",
        "WARNING: found firstname that doesn't exist in SAA DB at all: myung"
       ]
      },
      {
       "output_type": "stream",
       "stream": "stdout",
       "text": [
        "\n",
        "WARNING: found firstname that doesn't exist in SAA DB at all: zolt"
       ]
      },
      {
       "output_type": "stream",
       "stream": "stdout",
       "text": [
        "\n",
        "WARNING: found firstname that doesn't exist in SAA DB at all: luhong"
       ]
      },
      {
       "output_type": "stream",
       "stream": "stdout",
       "text": [
        "\n",
        "WARNING: found firstname that doesn't exist in SAA DB at all: miao\n",
        "WARNING: found firstname that doesn't exist in SAA DB at all: zequn"
       ]
      },
      {
       "output_type": "stream",
       "stream": "stdout",
       "text": [
        "\n",
        "WARNING: found firstname that doesn't exist in SAA DB at all: yuqian"
       ]
      },
      {
       "output_type": "stream",
       "stream": "stdout",
       "text": [
        "\n",
        "WARNING: found firstname that doesn't exist in SAA DB at all: ragnhild"
       ]
      },
      {
       "output_type": "stream",
       "stream": "stdout",
       "text": [
        "\n",
        "WARNING: found firstname that doesn't exist in SAA DB at all: rongxin\n",
        "WARNING: found firstname that doesn't exist in SAA DB at all: jingzhe"
       ]
      },
      {
       "output_type": "stream",
       "stream": "stdout",
       "text": [
        "\n",
        "WARNING: found firstname that doesn't exist in SAA DB at all: yik\n",
        "WARNING: found firstname that doesn't exist in SAA DB at all: suvrath"
       ]
      },
      {
       "output_type": "stream",
       "stream": "stdout",
       "text": [
        "\n",
        "WARNING: found firstname that doesn't exist in SAA DB at all: vigneshwar"
       ]
      },
      {
       "output_type": "stream",
       "stream": "stdout",
       "text": [
        "\n",
        "WARNING: found firstname that doesn't exist in SAA DB at all: swarnima"
       ]
      },
      {
       "output_type": "stream",
       "stream": "stdout",
       "text": [
        "\n",
        "WARNING: found firstname that doesn't exist in SAA DB at all: qingqing\n",
        "WARNING: found firstname that doesn't exist in SAA DB at all: shengkai\n",
        "WARNING: found firstname that doesn't exist in SAA DB at all: rostom"
       ]
      },
      {
       "output_type": "stream",
       "stream": "stdout",
       "text": [
        "\n",
        "WARNING: found firstname that doesn't exist in SAA DB at all: lizyan"
       ]
      },
      {
       "output_type": "stream",
       "stream": "stdout",
       "text": [
        "\n",
        "WARNING: found firstname that doesn't exist in SAA DB at all: sonbol"
       ]
      },
      {
       "output_type": "stream",
       "stream": "stdout",
       "text": [
        "\n",
        "WARNING: found firstname that doesn't exist in SAA DB at all: aquib\n",
        "WARNING: found firstname that doesn't exist in SAA DB at all: j."
       ]
      },
      {
       "output_type": "stream",
       "stream": "stdout",
       "text": [
        "\n",
        "WARNING: found firstname that doesn't exist in SAA DB at all: jun-sung\n",
        "WARNING: found firstname that doesn't exist in SAA DB at all: fergal"
       ]
      },
      {
       "output_type": "stream",
       "stream": "stdout",
       "text": [
        "\n",
        "WARNING: found firstname that doesn't exist in SAA DB at all: zdzislaw"
       ]
      },
      {
       "output_type": "stream",
       "stream": "stdout",
       "text": [
        "\n",
        "WARNING: found firstname that doesn't exist in SAA DB at all: desika"
       ]
      },
      {
       "output_type": "stream",
       "stream": "stdout",
       "text": [
        "\n",
        "WARNING: found firstname that doesn't exist in SAA DB at all: chantanelle"
       ]
      },
      {
       "output_type": "stream",
       "stream": "stdout",
       "text": [
        "\n",
        "WARNING: found firstname that doesn't exist in SAA DB at all: hooshang"
       ]
      },
      {
       "output_type": "stream",
       "stream": "stdout",
       "text": [
        "\n",
        "WARNING: found firstname that doesn't exist in SAA DB at all: takalani"
       ]
      },
      {
       "output_type": "stream",
       "stream": "stdout",
       "text": [
        "\n",
        "WARNING: found firstname that doesn't exist in SAA DB at all: takalani\n",
        "WARNING: found firstname that doesn't exist in SAA DB at all: ajinkya"
       ]
      },
      {
       "output_type": "stream",
       "stream": "stdout",
       "text": [
        "\n",
        "WARNING: found firstname that doesn't exist in SAA DB at all: masanori"
       ]
      },
      {
       "output_type": "stream",
       "stream": "stdout",
       "text": [
        "\n",
        "WARNING: found firstname that doesn't exist in SAA DB at all: antonija"
       ]
      },
      {
       "output_type": "stream",
       "stream": "stdout",
       "text": [
        "\n",
        "WARNING: found firstname that doesn't exist in SAA DB at all: henk-sjoerd"
       ]
      },
      {
       "output_type": "stream",
       "stream": "stdout",
       "text": [
        "\n",
        "WARNING: found firstname that doesn't exist in SAA DB at all: kwangho"
       ]
      },
      {
       "output_type": "stream",
       "stream": "stdout",
       "text": [
        "\n",
        "WARNING: found firstname that doesn't exist in SAA DB at all: sangwook\n",
        "WARNING: found firstname that doesn't exist in SAA DB at all: liuyi"
       ]
      },
      {
       "output_type": "stream",
       "stream": "stdout",
       "text": [
        "\n",
        "WARNING: found firstname that doesn't exist in SAA DB at all: thushara"
       ]
      },
      {
       "output_type": "stream",
       "stream": "stdout",
       "text": [
        "\n",
        "WARNING: found firstname that doesn't exist in SAA DB at all: d.j."
       ]
      },
      {
       "output_type": "stream",
       "stream": "stdout",
       "text": [
        "\n",
        "WARNING: found firstname that doesn't exist in SAA DB at all: ishon"
       ]
      },
      {
       "output_type": "stream",
       "stream": "stdout",
       "text": [
        "\n",
        "WARNING: found firstname that doesn't exist in SAA DB at all: yuqi"
       ]
      },
      {
       "output_type": "stream",
       "stream": "stdout",
       "text": [
        "\n",
        "WARNING: found firstname that doesn't exist in SAA DB at all: abhijith"
       ]
      },
      {
       "output_type": "stream",
       "stream": "stdout",
       "text": [
        "\n",
        "WARNING: found firstname that doesn't exist in SAA DB at all: mawrtin"
       ]
      },
      {
       "output_type": "stream",
       "stream": "stdout",
       "text": [
        "\n",
        "WARNING: found firstname that doesn't exist in SAA DB at all: umaa"
       ]
      },
      {
       "output_type": "stream",
       "stream": "stdout",
       "text": [
        "\n",
        "WARNING: found firstname that doesn't exist in SAA DB at all: graca"
       ]
      },
      {
       "output_type": "stream",
       "stream": "stdout",
       "text": [
        "\n",
        "WARNING: found firstname that doesn't exist in SAA DB at all: zeeve"
       ]
      },
      {
       "output_type": "stream",
       "stream": "stdout",
       "text": [
        "\n",
        "WARNING: found firstname that doesn't exist in SAA DB at all: a."
       ]
      },
      {
       "output_type": "stream",
       "stream": "stdout",
       "text": [
        "\n",
        "WARNING: found firstname that doesn't exist in SAA DB at all: raghvendra"
       ]
      },
      {
       "output_type": "stream",
       "stream": "stdout",
       "text": [
        "\n",
        "WARNING: found firstname that doesn't exist in SAA DB at all: wilt"
       ]
      },
      {
       "output_type": "stream",
       "stream": "stdout",
       "text": [
        "\n",
        "WARNING: found firstname that doesn't exist in SAA DB at all: anneila"
       ]
      },
      {
       "output_type": "stream",
       "stream": "stdout",
       "text": [
        "\n",
        "WARNING: found firstname that doesn't exist in SAA DB at all: govert"
       ]
      },
      {
       "output_type": "stream",
       "stream": "stdout",
       "text": [
        "\n",
        "WARNING: found firstname that doesn't exist in SAA DB at all: debanjan"
       ]
      },
      {
       "output_type": "stream",
       "stream": "stdout",
       "text": [
        "\n",
        "WARNING: found firstname that doesn't exist in SAA DB at all: woo-young\n",
        "WARNING: found firstname that doesn't exist in SAA DB at all: dilovan\n",
        "WARNING: found firstname that doesn't exist in SAA DB at all: branimir"
       ]
      },
      {
       "output_type": "stream",
       "stream": "stdout",
       "text": [
        "\n",
        "WARNING: found firstname that doesn't exist in SAA DB at all: yutong"
       ]
      },
      {
       "output_type": "stream",
       "stream": "stdout",
       "text": [
        "\n",
        "WARNING: found firstname that doesn't exist in SAA DB at all: fang"
       ]
      },
      {
       "output_type": "stream",
       "stream": "stdout",
       "text": [
        "\n",
        "WARNING: found firstname that doesn't exist in SAA DB at all: aomawa\n",
        "WARNING: found firstname that doesn't exist in SAA DB at all: evgenya"
       ]
      },
      {
       "output_type": "stream",
       "stream": "stdout",
       "text": [
        "\n",
        "WARNING: found firstname that doesn't exist in SAA DB at all: manodeep"
       ]
      },
      {
       "output_type": "stream",
       "stream": "stdout",
       "text": [
        "\n",
        "WARNING: found firstname that doesn't exist in SAA DB at all: arfon"
       ]
      },
      {
       "output_type": "stream",
       "stream": "stdout",
       "text": [
        "\n",
        "WARNING: found firstname that doesn't exist in SAA DB at all: emmaris"
       ]
      },
      {
       "output_type": "stream",
       "stream": "stdout",
       "text": [
        "\n",
        "WARNING: found firstname that doesn't exist in SAA DB at all: ren???e"
       ]
      },
      {
       "output_type": "stream",
       "stream": "stdout",
       "text": [
        "\n",
        "WARNING: found firstname that doesn't exist in SAA DB at all: varadarajan"
       ]
      },
      {
       "output_type": "stream",
       "stream": "stdout",
       "text": [
        "\n",
        "WARNING: found firstname that doesn't exist in SAA DB at all: louis-gregory"
       ]
      },
      {
       "output_type": "stream",
       "stream": "stdout",
       "text": [
        "\n",
        "WARNING: found firstname that doesn't exist in SAA DB at all: chunsheng"
       ]
      },
      {
       "output_type": "stream",
       "stream": "stdout",
       "text": [
        "\n",
        "WARNING: found firstname that doesn't exist in SAA DB at all: hyewon"
       ]
      },
      {
       "output_type": "stream",
       "stream": "stdout",
       "text": [
        "\n",
        "WARNING: found firstname that doesn't exist in SAA DB at all: baitian"
       ]
      },
      {
       "output_type": "stream",
       "stream": "stdout",
       "text": [
        "\n",
        "WARNING: found firstname that doesn't exist in SAA DB at all: mairan"
       ]
      },
      {
       "output_type": "stream",
       "stream": "stdout",
       "text": [
        "\n",
        "WARNING: found firstname that doesn't exist in SAA DB at all: r."
       ]
      },
      {
       "output_type": "stream",
       "stream": "stdout",
       "text": [
        "\n",
        "WARNING: found firstname that doesn't exist in SAA DB at all: nithyanandan"
       ]
      },
      {
       "output_type": "stream",
       "stream": "stdout",
       "text": [
        "\n",
        "WARNING: found firstname that doesn't exist in SAA DB at all: brokk"
       ]
      },
      {
       "output_type": "stream",
       "stream": "stdout",
       "text": [
        "\n",
        "WARNING: found firstname that doesn't exist in SAA DB at all: selcuk"
       ]
      },
      {
       "output_type": "stream",
       "stream": "stdout",
       "text": [
        "\n",
        "WARNING: found firstname that doesn't exist in SAA DB at all: bade"
       ]
      },
      {
       "output_type": "stream",
       "stream": "stdout",
       "text": [
        "\n",
        "WARNING: found firstname that doesn't exist in SAA DB at all: t.jay\n",
        "WARNING: found firstname that doesn't exist in SAA DB at all: roeland"
       ]
      },
      {
       "output_type": "stream",
       "stream": "stdout",
       "text": [
        "\n",
        "WARNING: found firstname that doesn't exist in SAA DB at all: joeri"
       ]
      },
      {
       "output_type": "stream",
       "stream": "stdout",
       "text": [
        "\n",
        "WARNING: found firstname that doesn't exist in SAA DB at all: rukmani"
       ]
      },
      {
       "output_type": "stream",
       "stream": "stdout",
       "text": [
        "\n",
        "WARNING: found firstname that doesn't exist in SAA DB at all: aimei"
       ]
      },
      {
       "output_type": "stream",
       "stream": "stdout",
       "text": [
        "\n",
        "WARNING: found firstname that doesn't exist in SAA DB at all: dun\n",
        "WARNING: found firstname that doesn't exist in SAA DB at all: mei-yu"
       ]
      },
      {
       "output_type": "stream",
       "stream": "stdout",
       "text": [
        "\n",
        "WARNING: found firstname that doesn't exist in SAA DB at all: q.\n",
        "WARNING: found firstname that doesn't exist in SAA DB at all: ingunn"
       ]
      },
      {
       "output_type": "stream",
       "stream": "stdout",
       "text": [
        "\n",
        "WARNING: found firstname that doesn't exist in SAA DB at all: ka-wah"
       ]
      },
      {
       "output_type": "stream",
       "stream": "stdout",
       "text": [
        "\n",
        "WARNING: found firstname that doesn't exist in SAA DB at all: jong-hak\n",
        "WARNING: found firstname that doesn't exist in SAA DB at all: chick"
       ]
      },
      {
       "output_type": "stream",
       "stream": "stdout",
       "text": [
        "\n",
        "WARNING: found firstname that doesn't exist in SAA DB at all: jianfeng"
       ]
      },
      {
       "output_type": "stream",
       "stream": "stdout",
       "text": [
        "\n",
        "WARNING: found firstname that doesn't exist in SAA DB at all: xiuqin\n",
        "WARNING: found firstname that doesn't exist in SAA DB at all: bingxiao"
       ]
      },
      {
       "output_type": "stream",
       "stream": "stdout",
       "text": [
        "\n",
        "WARNING: found firstname that doesn't exist in SAA DB at all: aara'l"
       ]
      },
      {
       "output_type": "stream",
       "stream": "stdout",
       "text": [
        "\n",
        "WARNING: found firstname that doesn't exist in SAA DB at all: doosoo"
       ]
      },
      {
       "output_type": "stream",
       "stream": "stdout",
       "text": [
        "\n",
        "WARNING: found firstname that doesn't exist in SAA DB at all: ruiyang"
       ]
      },
      {
       "output_type": "stream",
       "stream": "stdout",
       "text": [
        "\n",
        "WARNING: found firstname that doesn't exist in SAA DB at all: flornes"
       ]
      },
      {
       "output_type": "stream",
       "stream": "stdout",
       "text": [
        "\n",
        "WARNING: found firstname that doesn't exist in SAA DB at all: tayeb"
       ]
      },
      {
       "output_type": "stream",
       "stream": "stdout",
       "text": [
        "\n",
        "WARNING: found firstname that doesn't exist in SAA DB at all: shuo"
       ]
      },
      {
       "output_type": "stream",
       "stream": "stdout",
       "text": [
        "\n",
        "WARNING: found firstname that doesn't exist in SAA DB at all: zhoujian\n"
       ]
      }
     ],
     "prompt_number": 87
    },
    {
     "cell_type": "code",
     "collapsed": false,
     "input": [
      "#df2.head()"
     ],
     "language": "python",
     "metadata": {},
     "outputs": [],
     "prompt_number": 90
    },
    {
     "cell_type": "code",
     "collapsed": false,
     "input": [
      "#df2[ df2.duplicated() ] # show exact duplcates in attendee list"
     ],
     "language": "python",
     "metadata": {},
     "outputs": [],
     "prompt_number": 91
    },
    {
     "cell_type": "code",
     "collapsed": false,
     "input": [
      "finalDB = df2[ ~ df2.duplicated() ]\n",
      "#finalDB.describe()"
     ],
     "language": "python",
     "metadata": {},
     "outputs": [],
     "prompt_number": 92
    },
    {
     "cell_type": "code",
     "collapsed": false,
     "input": [
      "finalCountMale = len( finalDB[ finalDB['gender'] == 'male' ] )\n",
      "finalCountFemale = len( finalDB[ finalDB['gender'] == 'female' ] )\n",
      "finalCountUnknown = len( finalDB[ finalDB['gender'] == 'unknown' ] )\n",
      "finalCountTotal = len(finalDB)"
     ],
     "language": "python",
     "metadata": {},
     "outputs": [],
     "prompt_number": 93
    },
    {
     "cell_type": "code",
     "collapsed": false,
     "input": [
      "print('AAS breakdown')\n",
      "print('Total Attendees = {}'.format(finalCountTotal) )\n",
      "print('Number of Male Attendees = {} ({:f})'.format(finalCountMale,1.0*finalCountMale/finalCountTotal) )\n",
      "print('Number of Female Attendees = {} ({:f})'.format(finalCountFemale,1.0*finalCountFemale/finalCountTotal) )\n",
      "print('Number of Unknown gender Attendees = {} ({:f})'.format(finalCountUnknown,1.0*finalCountUnknown/finalCountTotal) )\n"
     ],
     "language": "python",
     "metadata": {},
     "outputs": [
      {
       "output_type": "stream",
       "stream": "stdout",
       "text": [
        "AAS breakdown\n",
        "Total Attendees = 2778\n",
        "Number of Male Attendees = 1695 (0.610151)\n",
        "Number of Female Attendees = 894 (0.321814)\n",
        "Number of Unknown gender Attendees = 189 (0.068035)\n"
       ]
      }
     ],
     "prompt_number": 99
    },
    {
     "cell_type": "code",
     "collapsed": false,
     "input": [
      "finalDB.to_csv('firstNamesAndGenders.csv',index=False)"
     ],
     "language": "python",
     "metadata": {},
     "outputs": [],
     "prompt_number": 95
    },
    {
     "cell_type": "code",
     "collapsed": false,
     "input": [],
     "language": "python",
     "metadata": {},
     "outputs": []
    }
   ],
   "metadata": {}
  }
 ]
}